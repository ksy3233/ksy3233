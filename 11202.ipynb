{
  "nbformat": 4,
  "nbformat_minor": 0,
  "metadata": {
    "colab": {
      "name": "11202",
      "provenance": [],
      "authorship_tag": "ABX9TyNPF/5p55qSzTeMa5FG0AoT",
      "include_colab_link": true
    },
    "kernelspec": {
      "name": "python3",
      "display_name": "Python 3"
    },
    "language_info": {
      "name": "python"
    }
  },
  "cells": [
    {
      "cell_type": "markdown",
      "metadata": {
        "id": "view-in-github",
        "colab_type": "text"
      },
      "source": [
        "<a href=\"https://colab.research.google.com/github/ksy3233/ksy3233/blob/main/11202.ipynb\" target=\"_parent\"><img src=\"https://colab.research.google.com/assets/colab-badge.svg\" alt=\"Open In Colab\"/></a>"
      ]
    },
    {
      "cell_type": "code",
      "source": [
        "#2022학년도 1학년 1학기 프로그래밍 (파이썬)수행평가\n",
        "#한양공업고등학교 1학년 12반 2번 김성훈 "
      ],
      "metadata": {
        "id": "DYkSoVkVbWzo"
      },
      "execution_count": null,
      "outputs": []
    },
    {
      "cell_type": "code",
      "execution_count": 2,
      "metadata": {
        "colab": {
          "base_uri": "https://localhost:8080/"
        },
        "id": "nE1f2WFLVUEv",
        "outputId": "41959662-9c0b-4891-f14c-b15e9f11f27a"
      },
      "outputs": [
        {
          "output_type": "stream",
          "name": "stdout",
          "text": [
            "총 평가 금액 = 500000\n"
          ]
        }
      ],
      "source": [
        "삼성전자 = 50000\n",
        "print(\"총 평가 금액 =\", 삼성전자*10 )"
      ]
    },
    {
      "cell_type": "code",
      "source": [
        "year = \"2020\"\n",
        "print (int(year)-1)\n",
        "print (int(year)-2)\n",
        "print (int(year)-3)"
      ],
      "metadata": {
        "colab": {
          "base_uri": "https://localhost:8080/"
        },
        "id": "6CuzRte9WXN8",
        "outputId": "fabd7122-b7af-4d7b-f9b8-7096cd0497c1"
      },
      "execution_count": 6,
      "outputs": [
        {
          "output_type": "stream",
          "name": "stdout",
          "text": [
            "2019\n",
            "2018\n",
            "2017\n"
          ]
        }
      ]
    },
    {
      "cell_type": "code",
      "source": [
        "string = \"홀짝홀짝홀짝\"\n",
        "string[ : :2]"
      ],
      "metadata": {
        "colab": {
          "base_uri": "https://localhost:8080/",
          "height": 35
        },
        "id": "5JHbk0YDWgeV",
        "outputId": "2ccfd951-3ec8-476d-d33e-1059b4a28b12"
      },
      "execution_count": 10,
      "outputs": [
        {
          "output_type": "execute_result",
          "data": {
            "text/plain": [
              "'홀홀홀'"
            ],
            "application/vnd.google.colaboratory.intrinsic+json": {
              "type": "string"
            }
          },
          "metadata": {},
          "execution_count": 10
        }
      ]
    },
    {
      "cell_type": "code",
      "source": [
        "string = \"python\"\n",
        "string[: :-1]"
      ],
      "metadata": {
        "colab": {
          "base_uri": "https://localhost:8080/",
          "height": 35
        },
        "id": "BtbUsUfOX-_3",
        "outputId": "c2d2003a-7edc-4a98-daa3-576fb786cee1"
      },
      "execution_count": 13,
      "outputs": [
        {
          "output_type": "execute_result",
          "data": {
            "text/plain": [
              "'nohtyp'"
            ],
            "application/vnd.google.colaboratory.intrinsic+json": {
              "type": "string"
            }
          },
          "metadata": {},
          "execution_count": 13
        }
      ]
    },
    {
      "cell_type": "code",
      "source": [
        "movie_rank = [\"닥터스트레인지\" , \"스플릿\",\"럭키\",\"배트맨\"]\n",
        "movie_rank.insert(1,\"슈퍼맨\")\n",
        "movie_rank"
      ],
      "metadata": {
        "colab": {
          "base_uri": "https://localhost:8080/"
        },
        "id": "ON8aKmvOYaMI",
        "outputId": "7a9a2d8b-a7d5-443d-9e2f-419e7f8fda20"
      },
      "execution_count": 17,
      "outputs": [
        {
          "output_type": "execute_result",
          "data": {
            "text/plain": [
              "['닥터스트레인지', '슈퍼맨', '스플릿', '럭키', '배트맨']"
            ]
          },
          "metadata": {},
          "execution_count": 17
        }
      ]
    },
    {
      "cell_type": "code",
      "source": [
        "nums = [1,2,3,4,5,6,7,8,9,10]\n",
        "nums[::2]"
      ],
      "metadata": {
        "colab": {
          "base_uri": "https://localhost:8080/"
        },
        "id": "3LSpvYyVZA6x",
        "outputId": "ea63cf00-afdd-4c57-8e50-5810c68ef5fd"
      },
      "execution_count": 19,
      "outputs": [
        {
          "output_type": "execute_result",
          "data": {
            "text/plain": [
              "[1, 3, 5, 7, 9]"
            ]
          },
          "metadata": {},
          "execution_count": 19
        }
      ]
    },
    {
      "cell_type": "code",
      "source": [
        "data = [2,4,3,1,5,10,9,]\n",
        "data.sort()\n",
        "data"
      ],
      "metadata": {
        "colab": {
          "base_uri": "https://localhost:8080/"
        },
        "id": "j1bGhxIBZf7g",
        "outputId": "ae249b8b-c075-42af-d80d-32e432b437a2"
      },
      "execution_count": 22,
      "outputs": [
        {
          "output_type": "execute_result",
          "data": {
            "text/plain": [
              "[1, 2, 3, 4, 5, 9, 10]"
            ]
          },
          "metadata": {},
          "execution_count": 22
        }
      ]
    },
    {
      "cell_type": "code",
      "source": [
        "name1 = \"김민수\"\n",
        "age1  = 10 \n",
        "name2 = \"이철희\"\n",
        "age2  = 13\n",
        "s = \"이름:{} 나이:{}\"\n",
        "print(s.format(name1,age1))\n",
        "print(s.format(name2,age2))\n"
      ],
      "metadata": {
        "colab": {
          "base_uri": "https://localhost:8080/"
        },
        "id": "wSanpzMpZ0G4",
        "outputId": "b8b9d404-c92b-4ef6-da72-cac21f2a0ab6"
      },
      "execution_count": 26,
      "outputs": [
        {
          "output_type": "stream",
          "name": "stdout",
          "text": [
            "이름:김민수 나이:10\n",
            "이름:이철희 나이:13\n"
          ]
        }
      ]
    }
  ]
}